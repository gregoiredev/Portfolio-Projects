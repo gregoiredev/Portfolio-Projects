{
 "cells": [
  {
   "cell_type": "code",
   "execution_count": 1,
   "id": "8f63cd5b",
   "metadata": {},
   "outputs": [],
   "source": [
    "# Import libraries\n",
    "\n",
    "import pandas as pd\n",
    "import requests\n",
    "import smtplib\n",
    "import datetime\n",
    "import time\n",
    "import csv\n",
    "from bs4 import BeautifulSoup\n"
   ]
  },
  {
   "cell_type": "code",
   "execution_count": 3,
   "id": "0ffa7855",
   "metadata": {},
   "outputs": [
    {
     "name": "stdout",
     "output_type": "stream",
     "text": [
      "funny data analyst definition data scientist T-Shirt\n",
      "19.99\n",
      "2023-04-07\n"
     ]
    }
   ],
   "source": [
    "# Connect to amazon\n",
    "\n",
    "URL = \"https://www.amazon.com/funny-analyst-definition-scientist-t-shirt/dp/B07NLP2PKY/ref=sr_1_6?keywords=data+analyst&qid=1680923745&sr=8-6\"\n",
    "\n",
    "headers = {\"User-Agent\": \"Mozilla/5.0 (Windows NT 10.0; Win64; x64) AppleWebKit/537.36 (KHTML, like Gecko) Chrome/111.0.0.0 Safari/537.36\", \"Accept-Encoding\": \"gzip, deflate, br\", \"Accept\": \"text/html,application/xhtml+xml,application/xml;q=0.9,image/avif,image/webp,image/apng,*/*;q=0.8,application/signed-exchange;v=b3;q=0.7\", \"DNT\":\"1\", \"Connection\":\"Close\", \"Upgrade-Insecure-Requests\": \"1\"}\n",
    "\n",
    "page = requests.get(URL, headers=headers)\n",
    "\n",
    "soup1 = BeautifulSoup(page.content, \"html.parser\")\n",
    "\n",
    "soup2 = BeautifulSoup(soup1.prettify(), \"html.parser\")\n",
    "\n",
    "product = soup2.find(id=\"productTitle\").text.strip()\n",
    "\n",
    "price = soup2.find(class_=\"a-offscreen\").text.strip()[1:]\n",
    "price = float(price)\n",
    "\n",
    "date = datetime.date.today()\n",
    "\n",
    "print(product)\n",
    "print(price)\n",
    "print(date)\n"
   ]
  },
  {
   "cell_type": "code",
   "execution_count": 4,
   "id": "53df4a38",
   "metadata": {},
   "outputs": [
    {
     "name": "stdout",
     "output_type": "stream",
     "text": [
      "                                             product  price        date\n",
      "0  funny data analyst definition data scientist T...  19.99  2023-04-07\n"
     ]
    }
   ],
   "source": [
    "# Insert data into a csv\n",
    "\n",
    "header = [\"product\", \"price\", \"date\"]\n",
    "data = [product, price, date]\n",
    "\n",
    "with open(\"AmazonDataset.csv\", \"w\", newline=\"\", encoding=\"UTF8\") as f:\n",
    "    writer = csv.writer(f)\n",
    "    writer.writerow(header)\n",
    "    writer.writerow(data)\n",
    "\n",
    "df = pd.read_csv(r'C:\\Users\\grego\\AmazonDataset.csv')\n",
    "\n",
    "print (df)\n"
   ]
  },
  {
   "cell_type": "code",
   "execution_count": 5,
   "id": "84860ae1",
   "metadata": {},
   "outputs": [],
   "source": [
    "# If price is below a certain threshold, send an email\n",
    "\n",
    "def send_email():\n",
    "    server = smtplib.SMTP_SSL(\"smtp.gmail.com\", 465)\n",
    "    server.ehlo()\n",
    "    server.login(\"olivia.dev20@gmail.com\", \"xxxxxxxxx\")\n",
    "    \n",
    "    subject = \"The shirt you want is below $12!\"\n",
    "    body = \"This is the moment you have been waiting for. Now is your chance to pick up the shirt you wanted. Don't miss this oportunity!\"\n",
    "    \n",
    "    msg = f\"Subject: {subject}\\n\\n{body}\"\n",
    "    \n",
    "    server.sendmail(\n",
    "        \"olivia.dev20@gmail.com\",\n",
    "        msg\n",
    "    )\n",
    "    "
   ]
  },
  {
   "cell_type": "code",
   "execution_count": 6,
   "id": "1144eb2a",
   "metadata": {},
   "outputs": [],
   "source": [
    "# Appending data to the csv\n",
    "\n",
    "def check_price():\n",
    "    URL = \"https://www.amazon.com/funny-analyst-definition-scientist-t-shirt/dp/B07NLP2PKY/ref=sr_1_6?keywords=data+analyst&qid=1680923745&sr=8-6\"\n",
    "    headers = {\"User-Agent\": \"Mozilla/5.0 (Windows NT 10.0; Win64; x64) AppleWebKit/537.36 (KHTML, like Gecko) Chrome/111.0.0.0 Safari/537.36\", \"Accept-Encoding\": \"gzip, deflate, br\", \"Accept\": \"text/html,application/xhtml+xml,application/xml;q=0.9,image/avif,image/webp,image/apng,*/*;q=0.8,application/signed-exchange;v=b3;q=0.7\", \"DNT\":\"1\", \"Connection\":\"Close\", \"Upgrade-Insecure-Requests\": \"1\"}\n",
    "\n",
    "    page = requests.get(URL, headers=headers)\n",
    "    soup1 = BeautifulSoup(page.content, \"html.parser\")\n",
    "    soup2 = BeautifulSoup(soup1.prettify(), \"html.parser\")\n",
    "\n",
    "    product = soup2.find(id=\"productTitle\").text.strip()\n",
    "    price = soup2.find(class_=\"a-offscreen\").text.strip()[1:]\n",
    "    price = float(price)\n",
    "    date = datetime.date.today()\n",
    "    \n",
    "    data = [product, price, date]\n",
    "    \n",
    "    with open(\"AmazonDataset.csv\", \"a+\", newline=\"\", encoding=\"UTF8\") as f:\n",
    "        writer = csv.writer(f)\n",
    "        writer.writerow(data)\n",
    "    \n",
    "    if(price < 12):\n",
    "        send_email()        \n",
    "        "
   ]
  },
  {
   "cell_type": "code",
   "execution_count": null,
   "id": "3fee7071",
   "metadata": {},
   "outputs": [],
   "source": [
    "# Check price everyday\n",
    "\n",
    "while(True):\n",
    "    check_price()\n",
    "    time.sleep(86400)\n"
   ]
  },
  {
   "cell_type": "code",
   "execution_count": 2,
   "id": "cf966d56",
   "metadata": {},
   "outputs": [
    {
     "name": "stdout",
     "output_type": "stream",
     "text": [
      "                                             product  price        date\n",
      "0  funny data analyst definition data scientist T...  19.99  2023-04-07\n",
      "1  funny data analyst definition data scientist T...  19.99  2023-04-07\n"
     ]
    }
   ],
   "source": [
    "# Check dataframe\n",
    "\n",
    "df = pd.read_csv(r'C:\\Users\\grego\\AmazonDataset.csv')\n",
    "\n",
    "print (df)\n"
   ]
  },
  {
   "cell_type": "code",
   "execution_count": null,
   "id": "62274ed8",
   "metadata": {},
   "outputs": [],
   "source": []
  }
 ],
 "metadata": {
  "kernelspec": {
   "display_name": "Python 3 (ipykernel)",
   "language": "python",
   "name": "python3"
  },
  "language_info": {
   "codemirror_mode": {
    "name": "ipython",
    "version": 3
   },
   "file_extension": ".py",
   "mimetype": "text/x-python",
   "name": "python",
   "nbconvert_exporter": "python",
   "pygments_lexer": "ipython3",
   "version": "3.10.9"
  }
 },
 "nbformat": 4,
 "nbformat_minor": 5
}
